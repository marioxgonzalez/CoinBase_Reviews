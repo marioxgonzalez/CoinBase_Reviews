{
  "cells": [
    {
      "cell_type": "markdown",
      "metadata": {
        "id": "view-in-github",
        "colab_type": "text"
      },
      "source": [
        "<a href=\"https://colab.research.google.com/github/marioxgonzalez/CoinBase_Reviews/blob/main/Coinbase_Review_Classifier.ipynb\" target=\"_parent\"><img src=\"https://colab.research.google.com/assets/colab-badge.svg\" alt=\"Open In Colab\"/></a>"
      ]
    },
    {
      "cell_type": "markdown",
      "metadata": {
        "id": "PQKHceiOeJge"
      },
      "source": [
        "### data prepare"
      ],
      "id": "PQKHceiOeJge"
    },
    {
      "cell_type": "code",
      "source": [
        "!pip install textblob"
      ],
      "metadata": {
        "colab": {
          "base_uri": "https://localhost:8080/"
        },
        "id": "DDJdA7tyUPFJ",
        "outputId": "c22b2244-fd34-45f2-b43a-41dfb4fd89da"
      },
      "id": "DDJdA7tyUPFJ",
      "execution_count": null,
      "outputs": [
        {
          "output_type": "stream",
          "name": "stdout",
          "text": [
            "Requirement already satisfied: textblob in /usr/local/lib/python3.7/dist-packages (0.15.3)\n",
            "Requirement already satisfied: nltk>=3.1 in /usr/local/lib/python3.7/dist-packages (from textblob) (3.2.5)\n",
            "Requirement already satisfied: six in /usr/local/lib/python3.7/dist-packages (from nltk>=3.1->textblob) (1.15.0)\n"
          ]
        }
      ]
    },
    {
      "cell_type": "code",
      "execution_count": null,
      "metadata": {
        "id": "0aMA75R7eJgf",
        "colab": {
          "base_uri": "https://localhost:8080/"
        },
        "outputId": "7790cc77-5a65-4b72-f915-2844b9b8c5c1"
      },
      "outputs": [
        {
          "output_type": "stream",
          "name": "stdout",
          "text": [
            "[nltk_data] Downloading package vader_lexicon to /root/nltk_data...\n",
            "[nltk_data]   Package vader_lexicon is already up-to-date!\n"
          ]
        }
      ],
      "source": [
        "import pandas as pd\n",
        "import numpy as np\n",
        "import matplotlib.pyplot as plt\n",
        "%matplotlib inline\n",
        "import seaborn as sns\n",
        "\n",
        "import re\n",
        "import string\n",
        "\n",
        "import nltk\n",
        "from nltk.corpus import stopwords\n",
        "from nltk.sentiment.vader import SentimentIntensityAnalyzer\n",
        "from textblob import TextBlob\n",
        "nltk.download('vader_lexicon')\n",
        "\n",
        "from sklearn.metrics import accuracy_score,classification_report, confusion_matrix"
      ],
      "id": "0aMA75R7eJgf"
    },
    {
      "cell_type": "code",
      "source": [
        "df = pd.read_csv(\"/content/drive/MyDrive/CoinBase_Reviews/reviews_cb.csv\")\n",
        "print('Number of training reviews: {:,}\\n'.format(df.shape[0]))\n",
        "\n",
        "df = df[['reviewId','content','score','at']]\n",
        "df.dropna(subset = ['content','score'], inplace=True)\n",
        "df = df[df.content != \"👍\"]\n",
        "df = df.rename(columns={\"content\": \"Review\"})\n",
        "df.reset_index(inplace=True)\n",
        "text = df.copy()\n",
        "text['Review'] = text['Review'].astype(str)\n",
        "\n",
        "def get_sentiment(score):\n",
        "  if score >= 4:\n",
        "    return \"Positive\"\n",
        "  if score <= 3:\n",
        "    return \"Negative\" \n",
        "\n",
        "\n",
        "text['Class'] = text.score.apply(get_sentiment)"
      ],
      "metadata": {
        "colab": {
          "base_uri": "https://localhost:8080/"
        },
        "id": "wHWe-YryRqZc",
        "outputId": "1ed2f0ca-efa4-4077-b230-b7be17eca4f5"
      },
      "id": "wHWe-YryRqZc",
      "execution_count": null,
      "outputs": [
        {
          "output_type": "stream",
          "name": "stdout",
          "text": [
            "Number of training reviews: 129,681\n",
            "\n"
          ]
        }
      ]
    },
    {
      "cell_type": "code",
      "execution_count": null,
      "metadata": {
        "id": "UDGLg9mveJgg",
        "outputId": "8c7df522-aa32-4507-b500-35d623c204be",
        "colab": {
          "base_uri": "https://localhost:8080/",
          "height": 384
        }
      },
      "outputs": [
        {
          "output_type": "execute_result",
          "data": {
            "text/plain": [
              "   index                                           reviewId  \\\n",
              "0      0  gp:AOqpTOGVaBRFk70o8DKCdhFzZi0JCPLEPDDDJ3CKuck...   \n",
              "1      1  gp:AOqpTOFIgh-VJEbHs1Gka0ZTveGsbm_SuiriezZl3yA...   \n",
              "\n",
              "                                              Review  score  \\\n",
              "0  Cant access my assets on the app keeps saying ...      1   \n",
              "1  app works and it's a great exchange if you hod...      5   \n",
              "\n",
              "                    at     Class  \n",
              "0  2022-03-24 19:23:48  Negative  \n",
              "1  2022-03-24 18:44:50  Positive  "
            ],
            "text/html": [
              "\n",
              "  <div id=\"df-627a6173-d587-40a0-b94f-5a9e423abdda\">\n",
              "    <div class=\"colab-df-container\">\n",
              "      <div>\n",
              "<style scoped>\n",
              "    .dataframe tbody tr th:only-of-type {\n",
              "        vertical-align: middle;\n",
              "    }\n",
              "\n",
              "    .dataframe tbody tr th {\n",
              "        vertical-align: top;\n",
              "    }\n",
              "\n",
              "    .dataframe thead th {\n",
              "        text-align: right;\n",
              "    }\n",
              "</style>\n",
              "<table border=\"1\" class=\"dataframe\">\n",
              "  <thead>\n",
              "    <tr style=\"text-align: right;\">\n",
              "      <th></th>\n",
              "      <th>index</th>\n",
              "      <th>reviewId</th>\n",
              "      <th>Review</th>\n",
              "      <th>score</th>\n",
              "      <th>at</th>\n",
              "      <th>Class</th>\n",
              "    </tr>\n",
              "  </thead>\n",
              "  <tbody>\n",
              "    <tr>\n",
              "      <th>0</th>\n",
              "      <td>0</td>\n",
              "      <td>gp:AOqpTOGVaBRFk70o8DKCdhFzZi0JCPLEPDDDJ3CKuck...</td>\n",
              "      <td>Cant access my assets on the app keeps saying ...</td>\n",
              "      <td>1</td>\n",
              "      <td>2022-03-24 19:23:48</td>\n",
              "      <td>Negative</td>\n",
              "    </tr>\n",
              "    <tr>\n",
              "      <th>1</th>\n",
              "      <td>1</td>\n",
              "      <td>gp:AOqpTOFIgh-VJEbHs1Gka0ZTveGsbm_SuiriezZl3yA...</td>\n",
              "      <td>app works and it's a great exchange if you hod...</td>\n",
              "      <td>5</td>\n",
              "      <td>2022-03-24 18:44:50</td>\n",
              "      <td>Positive</td>\n",
              "    </tr>\n",
              "  </tbody>\n",
              "</table>\n",
              "</div>\n",
              "      <button class=\"colab-df-convert\" onclick=\"convertToInteractive('df-627a6173-d587-40a0-b94f-5a9e423abdda')\"\n",
              "              title=\"Convert this dataframe to an interactive table.\"\n",
              "              style=\"display:none;\">\n",
              "        \n",
              "  <svg xmlns=\"http://www.w3.org/2000/svg\" height=\"24px\"viewBox=\"0 0 24 24\"\n",
              "       width=\"24px\">\n",
              "    <path d=\"M0 0h24v24H0V0z\" fill=\"none\"/>\n",
              "    <path d=\"M18.56 5.44l.94 2.06.94-2.06 2.06-.94-2.06-.94-.94-2.06-.94 2.06-2.06.94zm-11 1L8.5 8.5l.94-2.06 2.06-.94-2.06-.94L8.5 2.5l-.94 2.06-2.06.94zm10 10l.94 2.06.94-2.06 2.06-.94-2.06-.94-.94-2.06-.94 2.06-2.06.94z\"/><path d=\"M17.41 7.96l-1.37-1.37c-.4-.4-.92-.59-1.43-.59-.52 0-1.04.2-1.43.59L10.3 9.45l-7.72 7.72c-.78.78-.78 2.05 0 2.83L4 21.41c.39.39.9.59 1.41.59.51 0 1.02-.2 1.41-.59l7.78-7.78 2.81-2.81c.8-.78.8-2.07 0-2.86zM5.41 20L4 18.59l7.72-7.72 1.47 1.35L5.41 20z\"/>\n",
              "  </svg>\n",
              "      </button>\n",
              "      \n",
              "  <style>\n",
              "    .colab-df-container {\n",
              "      display:flex;\n",
              "      flex-wrap:wrap;\n",
              "      gap: 12px;\n",
              "    }\n",
              "\n",
              "    .colab-df-convert {\n",
              "      background-color: #E8F0FE;\n",
              "      border: none;\n",
              "      border-radius: 50%;\n",
              "      cursor: pointer;\n",
              "      display: none;\n",
              "      fill: #1967D2;\n",
              "      height: 32px;\n",
              "      padding: 0 0 0 0;\n",
              "      width: 32px;\n",
              "    }\n",
              "\n",
              "    .colab-df-convert:hover {\n",
              "      background-color: #E2EBFA;\n",
              "      box-shadow: 0px 1px 2px rgba(60, 64, 67, 0.3), 0px 1px 3px 1px rgba(60, 64, 67, 0.15);\n",
              "      fill: #174EA6;\n",
              "    }\n",
              "\n",
              "    [theme=dark] .colab-df-convert {\n",
              "      background-color: #3B4455;\n",
              "      fill: #D2E3FC;\n",
              "    }\n",
              "\n",
              "    [theme=dark] .colab-df-convert:hover {\n",
              "      background-color: #434B5C;\n",
              "      box-shadow: 0px 1px 3px 1px rgba(0, 0, 0, 0.15);\n",
              "      filter: drop-shadow(0px 1px 2px rgba(0, 0, 0, 0.3));\n",
              "      fill: #FFFFFF;\n",
              "    }\n",
              "  </style>\n",
              "\n",
              "      <script>\n",
              "        const buttonEl =\n",
              "          document.querySelector('#df-627a6173-d587-40a0-b94f-5a9e423abdda button.colab-df-convert');\n",
              "        buttonEl.style.display =\n",
              "          google.colab.kernel.accessAllowed ? 'block' : 'none';\n",
              "\n",
              "        async function convertToInteractive(key) {\n",
              "          const element = document.querySelector('#df-627a6173-d587-40a0-b94f-5a9e423abdda');\n",
              "          const dataTable =\n",
              "            await google.colab.kernel.invokeFunction('convertToInteractive',\n",
              "                                                     [key], {});\n",
              "          if (!dataTable) return;\n",
              "\n",
              "          const docLinkHtml = 'Like what you see? Visit the ' +\n",
              "            '<a target=\"_blank\" href=https://colab.research.google.com/notebooks/data_table.ipynb>data table notebook</a>'\n",
              "            + ' to learn more about interactive tables.';\n",
              "          element.innerHTML = '';\n",
              "          dataTable['output_type'] = 'display_data';\n",
              "          await google.colab.output.renderOutput(dataTable, element);\n",
              "          const docLink = document.createElement('div');\n",
              "          docLink.innerHTML = docLinkHtml;\n",
              "          element.appendChild(docLink);\n",
              "        }\n",
              "      </script>\n",
              "    </div>\n",
              "  </div>\n",
              "  "
            ]
          },
          "metadata": {},
          "execution_count": 75
        }
      ],
      "source": [
        "text.head(2)"
      ],
      "id": "UDGLg9mveJgg"
    },
    {
      "cell_type": "code",
      "execution_count": null,
      "metadata": {
        "id": "XUizGUF9eJgh",
        "outputId": "93cb41af-b60b-4cc9-c597-2fb67c699993",
        "colab": {
          "base_uri": "https://localhost:8080/"
        }
      },
      "outputs": [
        {
          "output_type": "stream",
          "name": "stdout",
          "text": [
            "Positive    76001\n",
            "Negative    53549\n",
            "Name: Class, dtype: int64\n"
          ]
        }
      ],
      "source": [
        "print(text['Class'].value_counts())  # need to drop NA"
      ],
      "id": "XUizGUF9eJgh"
    },
    {
      "cell_type": "code",
      "source": [
        "text.info()"
      ],
      "metadata": {
        "colab": {
          "base_uri": "https://localhost:8080/"
        },
        "id": "ztgvLqHjYHuD",
        "outputId": "4aa23548-2971-497d-ba10-0faa588f8bf3"
      },
      "id": "ztgvLqHjYHuD",
      "execution_count": null,
      "outputs": [
        {
          "output_type": "stream",
          "name": "stdout",
          "text": [
            "<class 'pandas.core.frame.DataFrame'>\n",
            "RangeIndex: 129550 entries, 0 to 129549\n",
            "Data columns (total 6 columns):\n",
            " #   Column    Non-Null Count   Dtype \n",
            "---  ------    --------------   ----- \n",
            " 0   index     129550 non-null  int64 \n",
            " 1   reviewId  129550 non-null  object\n",
            " 2   Review    129550 non-null  object\n",
            " 3   score     129550 non-null  int64 \n",
            " 4   at        129550 non-null  object\n",
            " 5   Class     129550 non-null  object\n",
            "dtypes: int64(2), object(4)\n",
            "memory usage: 5.9+ MB\n"
          ]
        }
      ]
    },
    {
      "cell_type": "markdown",
      "source": [
        "## **Vader Sentiment**"
      ],
      "metadata": {
        "id": "4rYkRyg0W9_Z"
      },
      "id": "4rYkRyg0W9_Z"
    },
    {
      "cell_type": "code",
      "execution_count": null,
      "metadata": {
        "id": "B_SXEBJeeJgi"
      },
      "outputs": [],
      "source": [
        "analyser = SentimentIntensityAnalyzer()\n",
        "\n",
        "def sentiment_scores(text):\n",
        "    score = analyser.polarity_scores(text)\n",
        "    print(\"{:-<40} {}\".format(text, str(score)))"
      ],
      "id": "B_SXEBJeeJgi"
    },
    {
      "cell_type": "code",
      "source": [
        "sentiment_scores(text['Review'].iloc[0])"
      ],
      "metadata": {
        "colab": {
          "base_uri": "https://localhost:8080/"
        },
        "id": "s9_ivcDKYBUA",
        "outputId": "6c828e05-644a-4a92-d038-79c7c554806d"
      },
      "id": "s9_ivcDKYBUA",
      "execution_count": null,
      "outputs": [
        {
          "output_type": "stream",
          "name": "stdout",
          "text": [
            "Cant access my assets on the app keeps saying unable to connect. Unistalled and reinstalled still having problems.. {'neg': 0.082, 'neu': 0.918, 'pos': 0.0, 'compound': -0.1326}\n"
          ]
        }
      ]
    },
    {
      "cell_type": "code",
      "source": [
        "text['Scores'] = text['Review'].apply(lambda Review: analyser.polarity_scores(Review))\n",
        "text['Compound'] = text['Scores'].apply(lambda score_dict: score_dict['compound'])\n",
        "text.head()"
      ],
      "metadata": {
        "colab": {
          "base_uri": "https://localhost:8080/",
          "height": 687
        },
        "id": "jcPYpqX4YBju",
        "outputId": "f46e33d3-dec9-4566-8d54-f4f8f0267be5"
      },
      "id": "jcPYpqX4YBju",
      "execution_count": null,
      "outputs": [
        {
          "output_type": "execute_result",
          "data": {
            "text/plain": [
              "   index                                           reviewId  \\\n",
              "0      0  gp:AOqpTOGVaBRFk70o8DKCdhFzZi0JCPLEPDDDJ3CKuck...   \n",
              "1      1  gp:AOqpTOFIgh-VJEbHs1Gka0ZTveGsbm_SuiriezZl3yA...   \n",
              "2      2  gp:AOqpTOHW8-h8WM8HvltxhQitwvwTYYTMX5bQ_MGUrR_...   \n",
              "3      3  gp:AOqpTOFFFfPx3hgLsDBNqsp47DFck1sUpjNtp5PyOHh...   \n",
              "4      4  gp:AOqpTOETDaY3eiHa50nRwTbIboL0YDEMXjn8EufvGJj...   \n",
              "\n",
              "                                              Review  score  \\\n",
              "0  Cant access my assets on the app keeps saying ...      1   \n",
              "1  app works and it's a great exchange if you hod...      5   \n",
              "2  It's not very user friendly. It takes forever ...      2   \n",
              "3                                             Nice 👍      3   \n",
              "4  works pretty good, but have now transfered my ...      5   \n",
              "\n",
              "                    at     Class  \\\n",
              "0  2022-03-24 19:23:48  Negative   \n",
              "1  2022-03-24 18:44:50  Positive   \n",
              "2  2022-03-24 18:44:36  Negative   \n",
              "3  2022-03-24 18:08:15  Negative   \n",
              "4  2022-03-24 18:02:23  Positive   \n",
              "\n",
              "                                              Scores  Compound  \n",
              "0  {'neg': 0.082, 'neu': 0.918, 'pos': 0.0, 'comp...   -0.1326  \n",
              "1  {'neg': 0.0, 'neu': 0.745, 'pos': 0.255, 'comp...    0.6249  \n",
              "2  {'neg': 0.121, 'neu': 0.771, 'pos': 0.107, 'co...   -0.0859  \n",
              "3  {'neg': 0.0, 'neu': 0.0, 'pos': 1.0, 'compound...    0.4215  \n",
              "4  {'neg': 0.0, 'neu': 0.712, 'pos': 0.288, 'comp...    0.4678  "
            ],
            "text/html": [
              "\n",
              "  <div id=\"df-f32fbafe-ea31-4327-8977-8959754f54f0\">\n",
              "    <div class=\"colab-df-container\">\n",
              "      <div>\n",
              "<style scoped>\n",
              "    .dataframe tbody tr th:only-of-type {\n",
              "        vertical-align: middle;\n",
              "    }\n",
              "\n",
              "    .dataframe tbody tr th {\n",
              "        vertical-align: top;\n",
              "    }\n",
              "\n",
              "    .dataframe thead th {\n",
              "        text-align: right;\n",
              "    }\n",
              "</style>\n",
              "<table border=\"1\" class=\"dataframe\">\n",
              "  <thead>\n",
              "    <tr style=\"text-align: right;\">\n",
              "      <th></th>\n",
              "      <th>index</th>\n",
              "      <th>reviewId</th>\n",
              "      <th>Review</th>\n",
              "      <th>score</th>\n",
              "      <th>at</th>\n",
              "      <th>Class</th>\n",
              "      <th>Scores</th>\n",
              "      <th>Compound</th>\n",
              "    </tr>\n",
              "  </thead>\n",
              "  <tbody>\n",
              "    <tr>\n",
              "      <th>0</th>\n",
              "      <td>0</td>\n",
              "      <td>gp:AOqpTOGVaBRFk70o8DKCdhFzZi0JCPLEPDDDJ3CKuck...</td>\n",
              "      <td>Cant access my assets on the app keeps saying ...</td>\n",
              "      <td>1</td>\n",
              "      <td>2022-03-24 19:23:48</td>\n",
              "      <td>Negative</td>\n",
              "      <td>{'neg': 0.082, 'neu': 0.918, 'pos': 0.0, 'comp...</td>\n",
              "      <td>-0.1326</td>\n",
              "    </tr>\n",
              "    <tr>\n",
              "      <th>1</th>\n",
              "      <td>1</td>\n",
              "      <td>gp:AOqpTOFIgh-VJEbHs1Gka0ZTveGsbm_SuiriezZl3yA...</td>\n",
              "      <td>app works and it's a great exchange if you hod...</td>\n",
              "      <td>5</td>\n",
              "      <td>2022-03-24 18:44:50</td>\n",
              "      <td>Positive</td>\n",
              "      <td>{'neg': 0.0, 'neu': 0.745, 'pos': 0.255, 'comp...</td>\n",
              "      <td>0.6249</td>\n",
              "    </tr>\n",
              "    <tr>\n",
              "      <th>2</th>\n",
              "      <td>2</td>\n",
              "      <td>gp:AOqpTOHW8-h8WM8HvltxhQitwvwTYYTMX5bQ_MGUrR_...</td>\n",
              "      <td>It's not very user friendly. It takes forever ...</td>\n",
              "      <td>2</td>\n",
              "      <td>2022-03-24 18:44:36</td>\n",
              "      <td>Negative</td>\n",
              "      <td>{'neg': 0.121, 'neu': 0.771, 'pos': 0.107, 'co...</td>\n",
              "      <td>-0.0859</td>\n",
              "    </tr>\n",
              "    <tr>\n",
              "      <th>3</th>\n",
              "      <td>3</td>\n",
              "      <td>gp:AOqpTOFFFfPx3hgLsDBNqsp47DFck1sUpjNtp5PyOHh...</td>\n",
              "      <td>Nice 👍</td>\n",
              "      <td>3</td>\n",
              "      <td>2022-03-24 18:08:15</td>\n",
              "      <td>Negative</td>\n",
              "      <td>{'neg': 0.0, 'neu': 0.0, 'pos': 1.0, 'compound...</td>\n",
              "      <td>0.4215</td>\n",
              "    </tr>\n",
              "    <tr>\n",
              "      <th>4</th>\n",
              "      <td>4</td>\n",
              "      <td>gp:AOqpTOETDaY3eiHa50nRwTbIboL0YDEMXjn8EufvGJj...</td>\n",
              "      <td>works pretty good, but have now transfered my ...</td>\n",
              "      <td>5</td>\n",
              "      <td>2022-03-24 18:02:23</td>\n",
              "      <td>Positive</td>\n",
              "      <td>{'neg': 0.0, 'neu': 0.712, 'pos': 0.288, 'comp...</td>\n",
              "      <td>0.4678</td>\n",
              "    </tr>\n",
              "  </tbody>\n",
              "</table>\n",
              "</div>\n",
              "      <button class=\"colab-df-convert\" onclick=\"convertToInteractive('df-f32fbafe-ea31-4327-8977-8959754f54f0')\"\n",
              "              title=\"Convert this dataframe to an interactive table.\"\n",
              "              style=\"display:none;\">\n",
              "        \n",
              "  <svg xmlns=\"http://www.w3.org/2000/svg\" height=\"24px\"viewBox=\"0 0 24 24\"\n",
              "       width=\"24px\">\n",
              "    <path d=\"M0 0h24v24H0V0z\" fill=\"none\"/>\n",
              "    <path d=\"M18.56 5.44l.94 2.06.94-2.06 2.06-.94-2.06-.94-.94-2.06-.94 2.06-2.06.94zm-11 1L8.5 8.5l.94-2.06 2.06-.94-2.06-.94L8.5 2.5l-.94 2.06-2.06.94zm10 10l.94 2.06.94-2.06 2.06-.94-2.06-.94-.94-2.06-.94 2.06-2.06.94z\"/><path d=\"M17.41 7.96l-1.37-1.37c-.4-.4-.92-.59-1.43-.59-.52 0-1.04.2-1.43.59L10.3 9.45l-7.72 7.72c-.78.78-.78 2.05 0 2.83L4 21.41c.39.39.9.59 1.41.59.51 0 1.02-.2 1.41-.59l7.78-7.78 2.81-2.81c.8-.78.8-2.07 0-2.86zM5.41 20L4 18.59l7.72-7.72 1.47 1.35L5.41 20z\"/>\n",
              "  </svg>\n",
              "      </button>\n",
              "      \n",
              "  <style>\n",
              "    .colab-df-container {\n",
              "      display:flex;\n",
              "      flex-wrap:wrap;\n",
              "      gap: 12px;\n",
              "    }\n",
              "\n",
              "    .colab-df-convert {\n",
              "      background-color: #E8F0FE;\n",
              "      border: none;\n",
              "      border-radius: 50%;\n",
              "      cursor: pointer;\n",
              "      display: none;\n",
              "      fill: #1967D2;\n",
              "      height: 32px;\n",
              "      padding: 0 0 0 0;\n",
              "      width: 32px;\n",
              "    }\n",
              "\n",
              "    .colab-df-convert:hover {\n",
              "      background-color: #E2EBFA;\n",
              "      box-shadow: 0px 1px 2px rgba(60, 64, 67, 0.3), 0px 1px 3px 1px rgba(60, 64, 67, 0.15);\n",
              "      fill: #174EA6;\n",
              "    }\n",
              "\n",
              "    [theme=dark] .colab-df-convert {\n",
              "      background-color: #3B4455;\n",
              "      fill: #D2E3FC;\n",
              "    }\n",
              "\n",
              "    [theme=dark] .colab-df-convert:hover {\n",
              "      background-color: #434B5C;\n",
              "      box-shadow: 0px 1px 3px 1px rgba(0, 0, 0, 0.15);\n",
              "      filter: drop-shadow(0px 1px 2px rgba(0, 0, 0, 0.3));\n",
              "      fill: #FFFFFF;\n",
              "    }\n",
              "  </style>\n",
              "\n",
              "      <script>\n",
              "        const buttonEl =\n",
              "          document.querySelector('#df-f32fbafe-ea31-4327-8977-8959754f54f0 button.colab-df-convert');\n",
              "        buttonEl.style.display =\n",
              "          google.colab.kernel.accessAllowed ? 'block' : 'none';\n",
              "\n",
              "        async function convertToInteractive(key) {\n",
              "          const element = document.querySelector('#df-f32fbafe-ea31-4327-8977-8959754f54f0');\n",
              "          const dataTable =\n",
              "            await google.colab.kernel.invokeFunction('convertToInteractive',\n",
              "                                                     [key], {});\n",
              "          if (!dataTable) return;\n",
              "\n",
              "          const docLinkHtml = 'Like what you see? Visit the ' +\n",
              "            '<a target=\"_blank\" href=https://colab.research.google.com/notebooks/data_table.ipynb>data table notebook</a>'\n",
              "            + ' to learn more about interactive tables.';\n",
              "          element.innerHTML = '';\n",
              "          dataTable['output_type'] = 'display_data';\n",
              "          await google.colab.output.renderOutput(dataTable, element);\n",
              "          const docLink = document.createElement('div');\n",
              "          docLink.innerHTML = docLinkHtml;\n",
              "          element.appendChild(docLink);\n",
              "        }\n",
              "      </script>\n",
              "    </div>\n",
              "  </div>\n",
              "  "
            ]
          },
          "metadata": {},
          "execution_count": 80
        }
      ]
    },
    {
      "cell_type": "code",
      "source": [
        "def sentiment (score):\n",
        "    if score >= 0.15:\n",
        "        return 'Positive'\n",
        "    else:\n",
        "        return 'Negative'"
      ],
      "metadata": {
        "id": "lNa3gmWYYBme"
      },
      "id": "lNa3gmWYYBme",
      "execution_count": null,
      "outputs": []
    },
    {
      "cell_type": "code",
      "source": [
        "text['Sentiment'] = text['Compound'].apply(sentiment)\n",
        "text.head(10)"
      ],
      "metadata": {
        "colab": {
          "base_uri": "https://localhost:8080/",
          "height": 1000
        },
        "id": "0ZBOnkQ2Y5f2",
        "outputId": "24e682ea-03b8-4375-9ceb-b70803415c51"
      },
      "id": "0ZBOnkQ2Y5f2",
      "execution_count": null,
      "outputs": [
        {
          "output_type": "execute_result",
          "data": {
            "text/plain": [
              "   index                                           reviewId  \\\n",
              "0      0  gp:AOqpTOGVaBRFk70o8DKCdhFzZi0JCPLEPDDDJ3CKuck...   \n",
              "1      1  gp:AOqpTOFIgh-VJEbHs1Gka0ZTveGsbm_SuiriezZl3yA...   \n",
              "2      2  gp:AOqpTOHW8-h8WM8HvltxhQitwvwTYYTMX5bQ_MGUrR_...   \n",
              "3      3  gp:AOqpTOFFFfPx3hgLsDBNqsp47DFck1sUpjNtp5PyOHh...   \n",
              "4      4  gp:AOqpTOETDaY3eiHa50nRwTbIboL0YDEMXjn8EufvGJj...   \n",
              "5      5  gp:AOqpTOH1KQ8sMNALLZ6thALflAAOuKSLSBUj5xH_qQj...   \n",
              "6      6  gp:AOqpTOGgCbNHwRDj06r4YwVybVOlHvLWTMg30gt_Gu0...   \n",
              "7      7  gp:AOqpTOE3jymV_bQVuF9H3tqfpi07GcuUO8alMRdYYH6...   \n",
              "8      8  gp:AOqpTOEn9yJBFKaCy_jkN07zFsOMEKgVgucCPESRB_B...   \n",
              "9      9  gp:AOqpTOGQrinMFtuXzM87mfieU75S8xrRFnqb-Rk5upG...   \n",
              "\n",
              "                                              Review  score  \\\n",
              "0  Cant access my assets on the app keeps saying ...      1   \n",
              "1  app works and it's a great exchange if you hod...      5   \n",
              "2  It's not very user friendly. It takes forever ...      2   \n",
              "3                                             Nice 👍      3   \n",
              "4  works pretty good, but have now transfered my ...      5   \n",
              "5  For almost a month I have been unable to fully...      2   \n",
              "6                                               Cool      5   \n",
              "7                               they make it so easy      5   \n",
              "8  Can't log in to my account for 3months after s...      1   \n",
              "9  I like everything about Coinbase for the most ...      1   \n",
              "\n",
              "                    at     Class  \\\n",
              "0  2022-03-24 19:23:48  Negative   \n",
              "1  2022-03-24 18:44:50  Positive   \n",
              "2  2022-03-24 18:44:36  Negative   \n",
              "3  2022-03-24 18:08:15  Negative   \n",
              "4  2022-03-24 18:02:23  Positive   \n",
              "5  2022-03-24 17:41:30  Negative   \n",
              "6  2022-03-24 17:38:21  Positive   \n",
              "7  2022-03-24 17:35:52  Positive   \n",
              "8  2022-03-24 17:05:57  Negative   \n",
              "9  2022-03-24 16:48:40  Negative   \n",
              "\n",
              "                                              Scores  Compound Sentiment  \n",
              "0  {'neg': 0.082, 'neu': 0.918, 'pos': 0.0, 'comp...   -0.1326  Negative  \n",
              "1  {'neg': 0.0, 'neu': 0.745, 'pos': 0.255, 'comp...    0.6249  Positive  \n",
              "2  {'neg': 0.121, 'neu': 0.771, 'pos': 0.107, 'co...   -0.0859  Negative  \n",
              "3  {'neg': 0.0, 'neu': 0.0, 'pos': 1.0, 'compound...    0.4215  Positive  \n",
              "4  {'neg': 0.0, 'neu': 0.712, 'pos': 0.288, 'comp...    0.4678  Positive  \n",
              "5  {'neg': 0.046, 'neu': 0.838, 'pos': 0.116, 'co...    0.7360  Positive  \n",
              "6  {'neg': 0.0, 'neu': 0.0, 'pos': 1.0, 'compound...    0.3182  Positive  \n",
              "7  {'neg': 0.0, 'neu': 0.517, 'pos': 0.483, 'comp...    0.5777  Positive  \n",
              "8  {'neg': 0.041, 'neu': 0.607, 'pos': 0.351, 'co...    0.9231  Positive  \n",
              "9  {'neg': 0.125, 'neu': 0.813, 'pos': 0.062, 'co...   -0.6326  Negative  "
            ],
            "text/html": [
              "\n",
              "  <div id=\"df-50c1ce79-5458-474d-b90d-80d676714f05\">\n",
              "    <div class=\"colab-df-container\">\n",
              "      <div>\n",
              "<style scoped>\n",
              "    .dataframe tbody tr th:only-of-type {\n",
              "        vertical-align: middle;\n",
              "    }\n",
              "\n",
              "    .dataframe tbody tr th {\n",
              "        vertical-align: top;\n",
              "    }\n",
              "\n",
              "    .dataframe thead th {\n",
              "        text-align: right;\n",
              "    }\n",
              "</style>\n",
              "<table border=\"1\" class=\"dataframe\">\n",
              "  <thead>\n",
              "    <tr style=\"text-align: right;\">\n",
              "      <th></th>\n",
              "      <th>index</th>\n",
              "      <th>reviewId</th>\n",
              "      <th>Review</th>\n",
              "      <th>score</th>\n",
              "      <th>at</th>\n",
              "      <th>Class</th>\n",
              "      <th>Scores</th>\n",
              "      <th>Compound</th>\n",
              "      <th>Sentiment</th>\n",
              "    </tr>\n",
              "  </thead>\n",
              "  <tbody>\n",
              "    <tr>\n",
              "      <th>0</th>\n",
              "      <td>0</td>\n",
              "      <td>gp:AOqpTOGVaBRFk70o8DKCdhFzZi0JCPLEPDDDJ3CKuck...</td>\n",
              "      <td>Cant access my assets on the app keeps saying ...</td>\n",
              "      <td>1</td>\n",
              "      <td>2022-03-24 19:23:48</td>\n",
              "      <td>Negative</td>\n",
              "      <td>{'neg': 0.082, 'neu': 0.918, 'pos': 0.0, 'comp...</td>\n",
              "      <td>-0.1326</td>\n",
              "      <td>Negative</td>\n",
              "    </tr>\n",
              "    <tr>\n",
              "      <th>1</th>\n",
              "      <td>1</td>\n",
              "      <td>gp:AOqpTOFIgh-VJEbHs1Gka0ZTveGsbm_SuiriezZl3yA...</td>\n",
              "      <td>app works and it's a great exchange if you hod...</td>\n",
              "      <td>5</td>\n",
              "      <td>2022-03-24 18:44:50</td>\n",
              "      <td>Positive</td>\n",
              "      <td>{'neg': 0.0, 'neu': 0.745, 'pos': 0.255, 'comp...</td>\n",
              "      <td>0.6249</td>\n",
              "      <td>Positive</td>\n",
              "    </tr>\n",
              "    <tr>\n",
              "      <th>2</th>\n",
              "      <td>2</td>\n",
              "      <td>gp:AOqpTOHW8-h8WM8HvltxhQitwvwTYYTMX5bQ_MGUrR_...</td>\n",
              "      <td>It's not very user friendly. It takes forever ...</td>\n",
              "      <td>2</td>\n",
              "      <td>2022-03-24 18:44:36</td>\n",
              "      <td>Negative</td>\n",
              "      <td>{'neg': 0.121, 'neu': 0.771, 'pos': 0.107, 'co...</td>\n",
              "      <td>-0.0859</td>\n",
              "      <td>Negative</td>\n",
              "    </tr>\n",
              "    <tr>\n",
              "      <th>3</th>\n",
              "      <td>3</td>\n",
              "      <td>gp:AOqpTOFFFfPx3hgLsDBNqsp47DFck1sUpjNtp5PyOHh...</td>\n",
              "      <td>Nice 👍</td>\n",
              "      <td>3</td>\n",
              "      <td>2022-03-24 18:08:15</td>\n",
              "      <td>Negative</td>\n",
              "      <td>{'neg': 0.0, 'neu': 0.0, 'pos': 1.0, 'compound...</td>\n",
              "      <td>0.4215</td>\n",
              "      <td>Positive</td>\n",
              "    </tr>\n",
              "    <tr>\n",
              "      <th>4</th>\n",
              "      <td>4</td>\n",
              "      <td>gp:AOqpTOETDaY3eiHa50nRwTbIboL0YDEMXjn8EufvGJj...</td>\n",
              "      <td>works pretty good, but have now transfered my ...</td>\n",
              "      <td>5</td>\n",
              "      <td>2022-03-24 18:02:23</td>\n",
              "      <td>Positive</td>\n",
              "      <td>{'neg': 0.0, 'neu': 0.712, 'pos': 0.288, 'comp...</td>\n",
              "      <td>0.4678</td>\n",
              "      <td>Positive</td>\n",
              "    </tr>\n",
              "    <tr>\n",
              "      <th>5</th>\n",
              "      <td>5</td>\n",
              "      <td>gp:AOqpTOH1KQ8sMNALLZ6thALflAAOuKSLSBUj5xH_qQj...</td>\n",
              "      <td>For almost a month I have been unable to fully...</td>\n",
              "      <td>2</td>\n",
              "      <td>2022-03-24 17:41:30</td>\n",
              "      <td>Negative</td>\n",
              "      <td>{'neg': 0.046, 'neu': 0.838, 'pos': 0.116, 'co...</td>\n",
              "      <td>0.7360</td>\n",
              "      <td>Positive</td>\n",
              "    </tr>\n",
              "    <tr>\n",
              "      <th>6</th>\n",
              "      <td>6</td>\n",
              "      <td>gp:AOqpTOGgCbNHwRDj06r4YwVybVOlHvLWTMg30gt_Gu0...</td>\n",
              "      <td>Cool</td>\n",
              "      <td>5</td>\n",
              "      <td>2022-03-24 17:38:21</td>\n",
              "      <td>Positive</td>\n",
              "      <td>{'neg': 0.0, 'neu': 0.0, 'pos': 1.0, 'compound...</td>\n",
              "      <td>0.3182</td>\n",
              "      <td>Positive</td>\n",
              "    </tr>\n",
              "    <tr>\n",
              "      <th>7</th>\n",
              "      <td>7</td>\n",
              "      <td>gp:AOqpTOE3jymV_bQVuF9H3tqfpi07GcuUO8alMRdYYH6...</td>\n",
              "      <td>they make it so easy</td>\n",
              "      <td>5</td>\n",
              "      <td>2022-03-24 17:35:52</td>\n",
              "      <td>Positive</td>\n",
              "      <td>{'neg': 0.0, 'neu': 0.517, 'pos': 0.483, 'comp...</td>\n",
              "      <td>0.5777</td>\n",
              "      <td>Positive</td>\n",
              "    </tr>\n",
              "    <tr>\n",
              "      <th>8</th>\n",
              "      <td>8</td>\n",
              "      <td>gp:AOqpTOEn9yJBFKaCy_jkN07zFsOMEKgVgucCPESRB_B...</td>\n",
              "      <td>Can't log in to my account for 3months after s...</td>\n",
              "      <td>1</td>\n",
              "      <td>2022-03-24 17:05:57</td>\n",
              "      <td>Negative</td>\n",
              "      <td>{'neg': 0.041, 'neu': 0.607, 'pos': 0.351, 'co...</td>\n",
              "      <td>0.9231</td>\n",
              "      <td>Positive</td>\n",
              "    </tr>\n",
              "    <tr>\n",
              "      <th>9</th>\n",
              "      <td>9</td>\n",
              "      <td>gp:AOqpTOGQrinMFtuXzM87mfieU75S8xrRFnqb-Rk5upG...</td>\n",
              "      <td>I like everything about Coinbase for the most ...</td>\n",
              "      <td>1</td>\n",
              "      <td>2022-03-24 16:48:40</td>\n",
              "      <td>Negative</td>\n",
              "      <td>{'neg': 0.125, 'neu': 0.813, 'pos': 0.062, 'co...</td>\n",
              "      <td>-0.6326</td>\n",
              "      <td>Negative</td>\n",
              "    </tr>\n",
              "  </tbody>\n",
              "</table>\n",
              "</div>\n",
              "      <button class=\"colab-df-convert\" onclick=\"convertToInteractive('df-50c1ce79-5458-474d-b90d-80d676714f05')\"\n",
              "              title=\"Convert this dataframe to an interactive table.\"\n",
              "              style=\"display:none;\">\n",
              "        \n",
              "  <svg xmlns=\"http://www.w3.org/2000/svg\" height=\"24px\"viewBox=\"0 0 24 24\"\n",
              "       width=\"24px\">\n",
              "    <path d=\"M0 0h24v24H0V0z\" fill=\"none\"/>\n",
              "    <path d=\"M18.56 5.44l.94 2.06.94-2.06 2.06-.94-2.06-.94-.94-2.06-.94 2.06-2.06.94zm-11 1L8.5 8.5l.94-2.06 2.06-.94-2.06-.94L8.5 2.5l-.94 2.06-2.06.94zm10 10l.94 2.06.94-2.06 2.06-.94-2.06-.94-.94-2.06-.94 2.06-2.06.94z\"/><path d=\"M17.41 7.96l-1.37-1.37c-.4-.4-.92-.59-1.43-.59-.52 0-1.04.2-1.43.59L10.3 9.45l-7.72 7.72c-.78.78-.78 2.05 0 2.83L4 21.41c.39.39.9.59 1.41.59.51 0 1.02-.2 1.41-.59l7.78-7.78 2.81-2.81c.8-.78.8-2.07 0-2.86zM5.41 20L4 18.59l7.72-7.72 1.47 1.35L5.41 20z\"/>\n",
              "  </svg>\n",
              "      </button>\n",
              "      \n",
              "  <style>\n",
              "    .colab-df-container {\n",
              "      display:flex;\n",
              "      flex-wrap:wrap;\n",
              "      gap: 12px;\n",
              "    }\n",
              "\n",
              "    .colab-df-convert {\n",
              "      background-color: #E8F0FE;\n",
              "      border: none;\n",
              "      border-radius: 50%;\n",
              "      cursor: pointer;\n",
              "      display: none;\n",
              "      fill: #1967D2;\n",
              "      height: 32px;\n",
              "      padding: 0 0 0 0;\n",
              "      width: 32px;\n",
              "    }\n",
              "\n",
              "    .colab-df-convert:hover {\n",
              "      background-color: #E2EBFA;\n",
              "      box-shadow: 0px 1px 2px rgba(60, 64, 67, 0.3), 0px 1px 3px 1px rgba(60, 64, 67, 0.15);\n",
              "      fill: #174EA6;\n",
              "    }\n",
              "\n",
              "    [theme=dark] .colab-df-convert {\n",
              "      background-color: #3B4455;\n",
              "      fill: #D2E3FC;\n",
              "    }\n",
              "\n",
              "    [theme=dark] .colab-df-convert:hover {\n",
              "      background-color: #434B5C;\n",
              "      box-shadow: 0px 1px 3px 1px rgba(0, 0, 0, 0.15);\n",
              "      filter: drop-shadow(0px 1px 2px rgba(0, 0, 0, 0.3));\n",
              "      fill: #FFFFFF;\n",
              "    }\n",
              "  </style>\n",
              "\n",
              "      <script>\n",
              "        const buttonEl =\n",
              "          document.querySelector('#df-50c1ce79-5458-474d-b90d-80d676714f05 button.colab-df-convert');\n",
              "        buttonEl.style.display =\n",
              "          google.colab.kernel.accessAllowed ? 'block' : 'none';\n",
              "\n",
              "        async function convertToInteractive(key) {\n",
              "          const element = document.querySelector('#df-50c1ce79-5458-474d-b90d-80d676714f05');\n",
              "          const dataTable =\n",
              "            await google.colab.kernel.invokeFunction('convertToInteractive',\n",
              "                                                     [key], {});\n",
              "          if (!dataTable) return;\n",
              "\n",
              "          const docLinkHtml = 'Like what you see? Visit the ' +\n",
              "            '<a target=\"_blank\" href=https://colab.research.google.com/notebooks/data_table.ipynb>data table notebook</a>'\n",
              "            + ' to learn more about interactive tables.';\n",
              "          element.innerHTML = '';\n",
              "          dataTable['output_type'] = 'display_data';\n",
              "          await google.colab.output.renderOutput(dataTable, element);\n",
              "          const docLink = document.createElement('div');\n",
              "          docLink.innerHTML = docLinkHtml;\n",
              "          element.appendChild(docLink);\n",
              "        }\n",
              "      </script>\n",
              "    </div>\n",
              "  </div>\n",
              "  "
            ]
          },
          "metadata": {},
          "execution_count": 106
        }
      ]
    },
    {
      "cell_type": "code",
      "source": [
        "text['Sentiment'].value_counts()"
      ],
      "metadata": {
        "colab": {
          "base_uri": "https://localhost:8080/"
        },
        "id": "A6x-EGmaY5nM",
        "outputId": "754837f2-d62a-4267-e4e7-e075fd5a1529"
      },
      "id": "A6x-EGmaY5nM",
      "execution_count": null,
      "outputs": [
        {
          "output_type": "execute_result",
          "data": {
            "text/plain": [
              "Positive    76865\n",
              "Negative    52685\n",
              "Name: Sentiment, dtype: int64"
            ]
          },
          "metadata": {},
          "execution_count": 107
        }
      ]
    },
    {
      "cell_type": "code",
      "source": [
        "accuracy_score(text['Class'],text['Sentiment'])"
      ],
      "metadata": {
        "colab": {
          "base_uri": "https://localhost:8080/"
        },
        "id": "On-IEuU8Y5to",
        "outputId": "db886eb4-ecdf-408e-81d1-d167449a8cbf"
      },
      "id": "On-IEuU8Y5to",
      "execution_count": null,
      "outputs": [
        {
          "output_type": "execute_result",
          "data": {
            "text/plain": [
              "0.774203010420687"
            ]
          },
          "metadata": {},
          "execution_count": 108
        }
      ]
    },
    {
      "cell_type": "code",
      "source": [
        "print(classification_report(text['Class'],text['Sentiment']))"
      ],
      "metadata": {
        "colab": {
          "base_uri": "https://localhost:8080/"
        },
        "id": "fGLJRcQPY5yh",
        "outputId": "cfd31eb8-e2ea-46b9-8b66-90acb5353d7e"
      },
      "id": "fGLJRcQPY5yh",
      "execution_count": null,
      "outputs": [
        {
          "output_type": "stream",
          "name": "stdout",
          "text": [
            "              precision    recall  f1-score   support\n",
            "\n",
            "    Negative       0.73      0.72      0.72     53549\n",
            "    Positive       0.80      0.81      0.81     76001\n",
            "\n",
            "    accuracy                           0.77    129550\n",
            "   macro avg       0.77      0.77      0.77    129550\n",
            "weighted avg       0.77      0.77      0.77    129550\n",
            "\n"
          ]
        }
      ]
    },
    {
      "cell_type": "code",
      "source": [
        "print(confusion_matrix(text['Class'],text['Sentiment']))"
      ],
      "metadata": {
        "colab": {
          "base_uri": "https://localhost:8080/"
        },
        "id": "zPCcTwTjaRGH",
        "outputId": "625e44a5-238d-4c11-dff0-df901c8d7448"
      },
      "id": "zPCcTwTjaRGH",
      "execution_count": null,
      "outputs": [
        {
          "output_type": "stream",
          "name": "stdout",
          "text": [
            "[[37687 15862]\n",
            " [13938 62063]]\n"
          ]
        }
      ]
    },
    {
      "cell_type": "code",
      "source": [
        ""
      ],
      "metadata": {
        "id": "scFk2qAiaTi-"
      },
      "id": "scFk2qAiaTi-",
      "execution_count": null,
      "outputs": []
    },
    {
      "cell_type": "code",
      "execution_count": null,
      "metadata": {
        "colab": {
          "base_uri": "https://localhost:8080/"
        },
        "id": "Kp2B-P2_RHcX",
        "outputId": "3c09547e-d3ec-4191-e0fb-d0002da263aa"
      },
      "outputs": [
        {
          "output_type": "stream",
          "name": "stdout",
          "text": [
            "\n",
            "Naive Bayes\n",
            "Accuracy Score: 87.63797761482053%\n",
            "Confusion Matrix: \n",
            "[[ 8737  1947]\n",
            " [ 1256 13970]]\n"
          ]
        },
        {
          "output_type": "stream",
          "name": "stderr",
          "text": [
            "/usr/local/lib/python3.7/dist-packages/sklearn/linear_model/_logistic.py:818: ConvergenceWarning: lbfgs failed to converge (status=1):\n",
            "STOP: TOTAL NO. of ITERATIONS REACHED LIMIT.\n",
            "\n",
            "Increase the number of iterations (max_iter) or scale the data as shown in:\n",
            "    https://scikit-learn.org/stable/modules/preprocessing.html\n",
            "Please also refer to the documentation for alternative solver options:\n",
            "    https://scikit-learn.org/stable/modules/linear_model.html#logistic-regression\n",
            "  extra_warning_msg=_LOGISTIC_SOLVER_CONVERGENCE_MSG,\n"
          ]
        },
        {
          "output_type": "stream",
          "name": "stdout",
          "text": [
            "\n",
            "Logistic Regression\n",
            "Accuracy Score: 88.68776534156696%\n",
            "Confusion Matrix: \n",
            "[[ 8912  1772]\n",
            " [ 1159 14067]]\n"
          ]
        },
        {
          "output_type": "stream",
          "name": "stderr",
          "text": [
            "/usr/local/lib/python3.7/dist-packages/sklearn/svm/_base.py:1208: ConvergenceWarning: Liblinear failed to converge, increase the number of iterations.\n",
            "  ConvergenceWarning,\n"
          ]
        },
        {
          "output_type": "stream",
          "name": "stdout",
          "text": [
            "\n",
            "Support Vector Machine\n",
            "Accuracy Score: 88.13585488228483%\n",
            "Confusion Matrix: \n",
            "[[ 8842  1842]\n",
            " [ 1232 13994]]\n",
            "\n",
            "K Nearest Neighbors (NN = 3)\n",
            "Accuracy Score: 80.96873793901969%\n",
            "Confusion Matrix: \n",
            "[[ 6738  3946]\n",
            " [  985 14241]]\n",
            "\n",
            "Analysis\n",
            "No. of tokens:  7126\n",
            "No. of positive tokens:  1463\n",
            "No. of negative tokens:  5663\n",
            "\n",
            "Search Results for token/s: ['awesome']\n",
            "       Token  Positive  Negative\n",
            "726  awesome    1963.0      65.0\n",
            "30169     A little concerned with the latest update, and...\n",
            "124902                      Won't seem to let me buy in GBP\n",
            "128557    Perfect app. No bugs, nothing hard to use or f...\n",
            "102844    You should add an open ended history time lock...\n",
            "111191                Transactions  for bit coins take long\n",
            "                                ...                        \n",
            "4773      The update messed it up. Keep saying internet ...\n",
            "8354                              Meri app open nahi ho Rai\n",
            "125152    I have a hard time with following the graph al...\n",
            "92890     App very well done but widgets are useless. Pl...\n",
            "84598                haviing trouble adding my bank account\n",
            "Name: Review, Length: 985, dtype: object\n",
            "85545     there's always better ways to do things ...use...\n",
            "82916                         Works great, but high fees ☹️\n",
            "56710                                                   Bad\n",
            "126218    The app update screwed up and now I can't see ...\n",
            "78257     When I had a technical problem with a transact...\n",
            "                                ...                        \n",
            "41273     Seems like Coinbase (the company rather than a...\n",
            "114117    this app is great but the customer support is ...\n",
            "123064    Is sucks i want to buy coin and it always says...\n",
            "93083     I've had a Coinbase account for many years now...\n",
            "70737                                      Swift and fast ⏩\n",
            "Name: Review, Length: 3946, dtype: object\n"
          ]
        },
        {
          "output_type": "stream",
          "name": "stderr",
          "text": [
            "/usr/local/lib/python3.7/dist-packages/sklearn/utils/deprecation.py:87: FutureWarning: Function get_feature_names is deprecated; get_feature_names is deprecated in 1.0 and will be removed in 1.2. Please use get_feature_names_out instead.\n",
            "  warnings.warn(msg, category=FutureWarning)\n"
          ]
        }
      ],
      "source": [
        "#Importing Essentials\n",
        "import pandas as pd\n",
        "from sklearn import metrics\n",
        "from sklearn.model_selection import train_test_split\n",
        "from sklearn.feature_extraction.text import CountVectorizer\n",
        "from sklearn.svm import LinearSVC\n",
        "from sklearn.naive_bayes import MultinomialNB\n",
        "from sklearn.linear_model import LogisticRegression\n",
        "from sklearn.neighbors import KNeighborsClassifier\n",
        "\n",
        "X = text.Review\n",
        "y = text.Class\n",
        "#Using CountVectorizer to convert text into tokens/features\n",
        "vect = CountVectorizer(stop_words='english', ngram_range = (1,1), max_df = .80, min_df = 4)\n",
        "X_train, X_test, y_train, y_test = train_test_split(X,y,random_state=1, test_size= 0.2)\n",
        "#Using training data to transform text into counts of features for each message\n",
        "vect.fit(X_train)\n",
        "X_train_dtm = vect.transform(X_train) \n",
        "X_test_dtm = vect.transform(X_test)\n",
        "\n",
        "#Accuracy using Naive Bayes Model\n",
        "NB = MultinomialNB()\n",
        "NB.fit(X_train_dtm, y_train)\n",
        "y_pred = NB.predict(X_test_dtm)\n",
        "print('\\nNaive Bayes')\n",
        "print('Accuracy Score: ',metrics.accuracy_score(y_test,y_pred)*100,'%',sep='')\n",
        "print('Confusion Matrix: ',metrics.confusion_matrix(y_test,y_pred), sep = '\\n')\n",
        "\n",
        "#Accuracy using Logistic Regression Model\n",
        "LR = LogisticRegression()\n",
        "LR.fit(X_train_dtm, y_train)\n",
        "y_pred = LR.predict(X_test_dtm)\n",
        "print('\\nLogistic Regression')\n",
        "print('Accuracy Score: ',metrics.accuracy_score(y_test,y_pred)*100,'%',sep='')\n",
        "print('Confusion Matrix: ',metrics.confusion_matrix(y_test,y_pred), sep = '\\n')\n",
        "\n",
        "#Accuracy using SVM Model\n",
        "SVM = LinearSVC()\n",
        "SVM.fit(X_train_dtm, y_train)\n",
        "y_pred = SVM.predict(X_test_dtm)\n",
        "print('\\nSupport Vector Machine')\n",
        "print('Accuracy Score: ',metrics.accuracy_score(y_test,y_pred)*100,'%',sep='')\n",
        "print('Confusion Matrix: ',metrics.confusion_matrix(y_test,y_pred), sep = '\\n')\n",
        "\n",
        "#Accuracy using KNN Model\n",
        "KNN = KNeighborsClassifier(n_neighbors = 3)\n",
        "KNN.fit(X_train_dtm, y_train)\n",
        "y_pred = KNN.predict(X_test_dtm)\n",
        "print('\\nK Nearest Neighbors (NN = 3)')\n",
        "print('Accuracy Score: ',metrics.accuracy_score(y_test,y_pred)*100,'%',sep='')\n",
        "print('Confusion Matrix: ',metrics.confusion_matrix(y_test,y_pred), sep = '\\n')\n",
        "\n",
        "#Naive Bayes Analysis\n",
        "tokens_words = vect.get_feature_names()\n",
        "print('\\nAnalysis')\n",
        "print('No. of tokens: ',len(tokens_words))\n",
        "counts = NB.feature_count_\n",
        "df_table = {'Token':tokens_words,'Negative': counts[0,:],'Positive': counts[1,:]}\n",
        "tokens = pd.DataFrame(df_table, columns= ['Token','Positive','Negative'])\n",
        "positives = len(tokens[tokens['Positive']>tokens['Negative']])\n",
        "print('No. of positive tokens: ',positives)\n",
        "print('No. of negative tokens: ',len(tokens_words)-positives)\n",
        "#Check positivity/negativity of specific tokens\n",
        "token_search = ['awesome']\n",
        "print('\\nSearch Results for token/s:',token_search)\n",
        "print(tokens.loc[tokens['Token'].isin(token_search)])\n",
        "#Analyse False Negatives (Actual: 1; Predicted: 0)(Predicted negative review for a positive review) \n",
        "print(X_test[ y_pred < y_test ])\n",
        "#Analyse False Positives (Actual: 0; Predicted: 1)(Predicted positive review for a negative review) \n",
        "print(X_test[ y_pred > y_test ])\n"
      ],
      "id": "Kp2B-P2_RHcX"
    },
    {
      "cell_type": "code",
      "execution_count": null,
      "metadata": {
        "id": "tAKqTfIMRHcX"
      },
      "outputs": [],
      "source": [
        ""
      ],
      "id": "tAKqTfIMRHcX"
    },
    {
      "cell_type": "code",
      "execution_count": null,
      "metadata": {
        "id": "xnEmR_GQRHcX"
      },
      "outputs": [],
      "source": [
        ""
      ],
      "id": "xnEmR_GQRHcX"
    }
  ],
  "metadata": {
    "colab": {
      "name": "Coinbase_Review_Classifier.ipynb",
      "provenance": [],
      "include_colab_link": true
    },
    "kernelspec": {
      "display_name": "Python 3",
      "language": "python",
      "name": "python3"
    },
    "language_info": {
      "codemirror_mode": {
        "name": "ipython",
        "version": 3
      },
      "file_extension": ".py",
      "mimetype": "text/x-python",
      "name": "python",
      "nbconvert_exporter": "python",
      "pygments_lexer": "ipython3",
      "version": "3.7.6"
    }
  },
  "nbformat": 4,
  "nbformat_minor": 5
}